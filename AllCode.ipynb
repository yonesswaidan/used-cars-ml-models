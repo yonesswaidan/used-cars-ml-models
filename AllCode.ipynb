{
 "cells": [
  {
   "cell_type": "code",
   "execution_count": 1,
   "id": "f2057ae9",
   "metadata": {},
   "outputs": [],
   "source": [
    "import pandas as pd\n",
    "import numpy as np\n",
    "import os\n",
    "import json\n",
    "import matplotlib.pyplot as plt\n",
    "\n",
    "from sklearn.model_selection import train_test_split\n",
    "from sklearn.metrics import mean_squared_error, mean_absolute_error, r2_score\n",
    "from sklearn.ensemble import RandomForestRegressor, HistGradientBoostingRegressor\n"
   ]
  },
  {
   "cell_type": "code",
   "execution_count": 2,
   "id": "6bdec19e",
   "metadata": {},
   "outputs": [],
   "source": [
    "# Filsti til vores datasæt\n",
    "DATA_PATH = \"data/vehicles.csv\"\n",
    "RANDOM_STATE = 7"
   ]
  },
  {
   "cell_type": "code",
   "execution_count": 3,
   "id": "697981dd",
   "metadata": {},
   "outputs": [],
   "source": [
    "# Indlæs data\n",
    "def load_data():\n",
    "    df = pd.read_csv(DATA_PATH)\n",
    "    return df"
   ]
  },
  {
   "cell_type": "code",
   "execution_count": 4,
   "id": "372e9ff4",
   "metadata": {},
   "outputs": [],
   "source": [
    "# Rensning af vores data\n",
    "def clean_data(df):\n",
    "    df_c1 = df.copy()\n",
    "\n",
    "    drop_cols = ['url', 'region', 'region_url', 'image_url', 'county',\n",
    "                 'state', 'posting_date', 'VIN', 'description', 'lat', 'long']\n",
    "    df_c1 = df_c1.drop(columns=drop_cols, errors='ignore')\n",
    "\n",
    "    top_models = df_c1['model'].value_counts().nlargest(50).index\n",
    "    df_c1['model'] = df_c1['model'].apply(lambda x: x if x in top_models else 'other')\n",
    "    df_c1 = df_c1.dropna(subset=['model'])\n",
    "    df_c1['odometer'] = df_c1['odometer'].fillna(df_c1['odometer'].median())\n",
    "\n",
    "\n",
    "    df_c1['type'] = df_c1['type'].fillna('unknown')\n",
    "    df_c1['title_status'] = df_c1['title_status'].fillna(df_c1['title_status'].mode()[0])\n",
    "    df_c1['condition'] = df_c1['condition'].fillna('unknown')\n",
    "    df_c1['drive'] = df_c1['drive'].fillna(df_c1['drive'].mode()[0])\n",
    "    df_c1['fuel'] = df_c1['fuel'].fillna('unknown')\n",
    "    df_c1['transmission'] = df_c1['transmission'].fillna('unknown')\n",
    "    df_c1['size'] = df_c1['size'].fillna('unknown')\n",
    "    df_c1['cylinders'] = df_c1['cylinders'].fillna('unknown')\n",
    "    df_c1['paint_color'] = df_c1['paint_color'].fillna('unknown')\n",
    "\n",
    "    df_c1 = df_c1[df_c1['price'] > 0]\n",
    "    df_c1 = df_c1.dropna(subset=['price', 'year', 'manufacturer'])\n",
    "\n",
    "    return df_c1\n",
    "\n"
   ]
  },
  {
   "cell_type": "code",
   "execution_count": 5,
   "id": "13c24c7a",
   "metadata": {},
   "outputs": [],
   "source": [
    "def encode_and_split(df):\n",
    "    df_encoded = pd.get_dummies(df,\n",
    "        columns=['manufacturer', 'model', 'condition', 'fuel', 'title_status', \n",
    "                 'transmission', 'drive', 'type', 'paint_color', 'cylinders', 'size'],\n",
    "        drop_first=True)\n",
    "\n",
    "    df_encoded['log_price'] = np.log(df_encoded['price'])\n",
    "\n",
    "    X = df_encoded.drop(columns=['price', 'log_price'], errors='ignore')\n",
    "    y = df_encoded['log_price']\n",
    "\n",
    "    X = X.fillna(0)\n",
    "\n",
    "    return train_test_split(X, y, test_size=0.2, random_state=RANDOM_STATE)\n"
   ]
  },
  {
   "cell_type": "code",
   "execution_count": 6,
   "id": "27edc15d",
   "metadata": {},
   "outputs": [],
   "source": [
    "# Evaluering\n",
    "def evaluate_regression_model(y_true, y_pred, model_name=\"Model\", save_path=None):\n",
    "    mse = mean_squared_error(y_true, y_pred)\n",
    "    rmse = np.sqrt(mse)\n",
    "    mae = mean_absolute_error(y_true, y_pred)\n",
    "    r2 = r2_score(y_true, y_pred)\n",
    "\n",
    "    result = {\n",
    "        'Model': model_name,\n",
    "        'MAE': mae,\n",
    "        'RMSE': rmse,\n",
    "        'R2': r2\n",
    "    }\n",
    "\n",
    "    print(f\"{model_name} Performance:\")\n",
    "    print(f\"MAE:  {mae:.3f}\")\n",
    "    print(f\"RMSE: {rmse:.3f}\")\n",
    "    print(f\"R^2:  {r2:.3f}\\n\")\n",
    "\n",
    "    if save_path:\n",
    "        os.makedirs(os.path.dirname(save_path), exist_ok=True)\n",
    "        with open(save_path, 'w') as f:\n",
    "            json.dump(result, f, indent=4)\n",
    "\n",
    "    return result\n"
   ]
  },
  {
   "cell_type": "code",
   "execution_count": 7,
   "id": "109fce41",
   "metadata": {},
   "outputs": [],
   "source": [
    "# Random Forest model\n",
    "def plot_feature_importance(model, feature_names, top_n=10):\n",
    "    importances = model.feature_importances_\n",
    "    indices = np.argsort(importances)[-top_n:]\n",
    "\n",
    "    plt.figure(figsize=(10, 6))\n",
    "    plt.title(\"Top fremtidige Importances\")\n",
    "    plt.barh(range(top_n), importances[indices], align='center')\n",
    "    plt.yticks(range(top_n), [feature_names[i] for i in indices])\n",
    "    plt.xlabel(\"Importance\")\n",
    "    plt.tight_layout()\n",
    "    plt.show()\n",
    "\n",
    "def train_random_forest(X_train, y_train, X_test, y_test, feature_names=None, show_feature_importance=False):\n",
    "    model = RandomForestRegressor(\n",
    "        n_estimators=200,\n",
    "        max_depth=15,\n",
    "        oob_score=True,\n",
    "        bootstrap=True,\n",
    "        random_state=RANDOM_STATE,\n",
    "        n_jobs=-1\n",
    "    )\n",
    "\n",
    "    model.fit(X_train, y_train)\n",
    "    y_pred = model.predict(X_test)\n",
    "\n",
    "    evaluate_regression_model(y_test, y_pred, \n",
    "                              model_name=\"Random Forest Regression\",\n",
    "                              save_path=\"results/random_forest_results.json\")\n",
    "\n",
    "    if hasattr(model, \"oob_score_\"):\n",
    "        print(f\"OOB Score: {model.oob_score_:.4f}\")\n",
    "\n",
    "    if show_feature_importance and feature_names is not None:\n",
    "        plot_feature_importance(model, feature_names)\n",
    "\n",
    "    return model\n",
    "\n",
    "\n"
   ]
  },
  {
   "cell_type": "code",
   "execution_count": 8,
   "id": "3215ec0a",
   "metadata": {},
   "outputs": [],
   "source": [
    "# Gradient Boosting model\n",
    "def train_gradient_boosting(X_train, y_train, X_test, y_test):\n",
    "    model = HistGradientBoostingRegressor(\n",
    "        max_iter=100,\n",
    "        max_depth=4,\n",
    "        learning_rate=0.1,\n",
    "        early_stopping=True,\n",
    "        n_iter_no_change=10,\n",
    "        max_bins=255,\n",
    "        random_state=RANDOM_STATE\n",
    "    )\n",
    "    \n",
    "    model_name = \"HistGradientBoosting\"\n",
    "    result_file = \"results/gradient_boosting_results.json\"\n",
    "\n",
    "    model.fit(X_train, y_train)\n",
    "    y_pred = model.predict(X_test)\n",
    "\n",
    "    evaluate_regression_model(y_test, y_pred, model_name=model_name, save_path=result_file)\n",
    "\n",
    "    return model\n",
    "\n"
   ]
  },
  {
   "cell_type": "code",
   "execution_count": 9,
   "id": "7cf28ab7",
   "metadata": {},
   "outputs": [
    {
     "name": "stdout",
     "output_type": "stream",
     "text": [
      "Træner Random Forest...\n",
      "Random Forest Regression Performance:\n",
      "MAE:  0.384\n",
      "RMSE: 0.795\n",
      "R^2:  0.594\n",
      "\n",
      "OOB Score: 0.6016\n"
     ]
    },
    {
     "data": {
      "image/png": "[encoded data removed]",
      "text/plain": [
       "<Figure size 1000x600 with 1 Axes>"
      ]
     },
     "metadata": {},
     "output_type": "display_data"
    },
    {
     "name": "stdout",
     "output_type": "stream",
     "text": [
      "Træner Gradient Boosting...\n",
      "HistGradientBoosting Performance:\n",
      "MAE:  0.460\n",
      "RMSE: 0.950\n",
      "R^2:  0.420\n",
      "\n"
     ]
    }
   ],
   "source": [
    "def main():\n",
    "    df = load_data()\n",
    "    df_clean = clean_data(df)\n",
    "    X_train, X_test, y_train, y_test = encode_and_split(df_clean)\n",
    "\n",
    "    print(\"Træner Random Forest...\")\n",
    "    train_random_forest(X_train, y_train, X_test, y_test, feature_names=X_train.columns, show_feature_importance=True)\n",
    "\n",
    "    print(\"Træner Gradient Boosting...\")\n",
    "    train_gradient_boosting(X_train, y_train, X_test, y_test)\n",
    "\n",
    "main()\n"
   ]
  }
 ],
 "metadata": {
  "kernelspec": {
   "display_name": ".venv",
   "language": "python",
   "name": "python3"
  },
  "language_info": {
   "codemirror_mode": {
    "name": "ipython",
    "version": 3
   },
   "file_extension": ".py",
   "mimetype": "text/x-python",
   "name": "python",
   "nbconvert_exporter": "python",
   "pygments_lexer": "ipython3",
   "version": "3.11.0"
  }
 },
 "nbformat": 4,
 "nbformat_minor": 5
}
